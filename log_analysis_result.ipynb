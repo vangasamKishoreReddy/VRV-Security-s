{
 "cells": [
  {
   "cell_type": "markdown",
   "id": "da8399ac-bc58-453d-8b23-279a3ea872aa",
   "metadata": {},
   "source": [
    "# **VRV Security’s Python Intern Assignment**"
   ]
  },
  {
   "cell_type": "markdown",
   "id": "9617f2d8-8d9c-4d8d-a440-ce2e1f9bb761",
   "metadata": {},
   "source": [
    "> #### Log Analysis Script for Cybersecurity Tasks [CLICK](https://jobspecifications.notion.site/VRV-Security-s-Python-Intern-Assignment-150c14db06a9802b9763e50f7abed6b9 \"Google\")"
   ]
  },
  {
   "cell_type": "markdown",
   "id": "32b2ae7e-a2fc-409d-85ec-878f4b0bea44",
   "metadata": {},
   "source": [
    "## **Objective**\n",
    "\n",
    "The goal of this assignment is to assess your ability to write a Python script that processes log files to extract and analyze key information. This assignment evaluates your proficiency in **`file handling`**, **`string manipulation`**, and **`data analysis`**, which are essential skills for `cybersecurity-related` programming tasks."
   ]
  },
  {
   "cell_type": "code",
   "execution_count": 99,
   "id": "2a1fd492-859d-44a3-b38c-026e243e9e4f",
   "metadata": {},
   "outputs": [
    {
     "name": "stdout",
     "output_type": "stream",
     "text": [
      "Log file successfully converted to log_analysis_result.csv with Request Count and Failed Login Count\n"
     ]
    }
   ],
   "source": [
    "import csv\n",
    "from collections import Counter\n",
    "\n",
    "# File paths\n",
    "log_file_path = r\"C:\\Users\\vkr20\\Documents\\INNOMATICS_Main\\VRV Assignment\\Sample.NotePad.log\"\n",
    "output_csv = \"log_analysis_result.csv\"\n",
    "\n",
    "# Convert log to CSV with Request Count\n",
    "def log_to_csv_with_request_count(log_path, csv_path):\n",
    "    with open(log_path, 'r') as log_file:\n",
    "        logs = log_file.readlines()\n",
    "\n",
    "    # Count requests per IP\n",
    "    request_counts = Counter()\n",
    "    failed_login_counts = Counter()\n",
    "\n",
    "    for line in logs:\n",
    "        parts = line.split()\n",
    "        ip = parts[0]\n",
    "        request_counts[ip] += 1\n",
    "\n",
    "        # Identify failed login attempts (e.g., status code 401 or \"Invalid credentials\" in the line)\n",
    "        if parts[8] == \"401\" or \"Invalid credentials\" in line:\n",
    "            failed_login_counts[ip] += 1\n",
    "\n",
    "    with open(csv_path, 'w', newline='') as csv_file:\n",
    "        csv_writer = csv.writer(csv_file)\n",
    "\n",
    "        # Write CSV header\n",
    "        csv_writer.writerow([\"IP Address\", \"Date/Time\", \"HTTP Method\", \"Endpoint\", \"Access Count\", \"Response Size\", \"Request Count\", \"Failed Login Count\"])\n",
    "\n",
    "        for line in logs:\n",
    "            parts = line.split()\n",
    "            ip = parts[0]\n",
    "            datetime = parts[3].strip('[')\n",
    "            method = parts[5].strip('\"')\n",
    "            endpoint = parts[6]\n",
    "            access_count = parts[8]  # Fixed the typo from 'acess_count' to 'access_count'\n",
    "            size = parts[9] if len(parts) > 9 else \"0\"\n",
    "            request_count = request_counts[ip]\n",
    "            failed_login_count = failed_login_counts[ip]\n",
    "\n",
    "            # Write to CSV\n",
    "            csv_writer.writerow([ip, datetime, method, endpoint, access_count, size, request_count, failed_login_count])\n",
    "\n",
    "    print(f\"Log file successfully converted to {csv_path} with Request Count and Failed Login Count\")\n",
    "\n",
    "# Convert the file\n",
    "log_to_csv_with_request_count(log_file_path, output_csv)\n"
   ]
  },
  {
   "cell_type": "code",
   "execution_count": 56,
   "id": "9652d8dc-d106-4658-94c1-108df4aea9d6",
   "metadata": {},
   "outputs": [],
   "source": [
    "import pandas as pd\n",
    "data = pd.read_csv(r\"C:\\Users\\vkr20\\Documents\\INNOMATICS_Main\\VRV Assignment\\log_analysis_result.csv\")"
   ]
  },
  {
   "cell_type": "code",
   "execution_count": 57,
   "id": "8c9faf27-6e15-4b25-9ab2-5aa580c4e39c",
   "metadata": {},
   "outputs": [
    {
     "data": {
      "text/html": [
       "<div>\n",
       "<style scoped>\n",
       "    .dataframe tbody tr th:only-of-type {\n",
       "        vertical-align: middle;\n",
       "    }\n",
       "\n",
       "    .dataframe tbody tr th {\n",
       "        vertical-align: top;\n",
       "    }\n",
       "\n",
       "    .dataframe thead th {\n",
       "        text-align: right;\n",
       "    }\n",
       "</style>\n",
       "<table border=\"1\" class=\"dataframe\">\n",
       "  <thead>\n",
       "    <tr style=\"text-align: right;\">\n",
       "      <th></th>\n",
       "      <th>IP Address</th>\n",
       "      <th>Date/Time</th>\n",
       "      <th>HTTP Method</th>\n",
       "      <th>Endpoint</th>\n",
       "      <th>Access Count</th>\n",
       "      <th>Response Size</th>\n",
       "      <th>Request Count</th>\n",
       "      <th>Failed Login Count</th>\n",
       "    </tr>\n",
       "  </thead>\n",
       "  <tbody>\n",
       "    <tr>\n",
       "      <th>0</th>\n",
       "      <td>192.168.1.1</td>\n",
       "      <td>03/Dec/2024:10:12:34</td>\n",
       "      <td>GET</td>\n",
       "      <td>/home</td>\n",
       "      <td>200</td>\n",
       "      <td>512</td>\n",
       "      <td>7</td>\n",
       "      <td>0</td>\n",
       "    </tr>\n",
       "    <tr>\n",
       "      <th>1</th>\n",
       "      <td>203.0.113.5</td>\n",
       "      <td>03/Dec/2024:10:12:35</td>\n",
       "      <td>POST</td>\n",
       "      <td>/login</td>\n",
       "      <td>401</td>\n",
       "      <td>128</td>\n",
       "      <td>8</td>\n",
       "      <td>8</td>\n",
       "    </tr>\n",
       "    <tr>\n",
       "      <th>2</th>\n",
       "      <td>10.0.0.2</td>\n",
       "      <td>03/Dec/2024:10:12:36</td>\n",
       "      <td>GET</td>\n",
       "      <td>/about</td>\n",
       "      <td>200</td>\n",
       "      <td>256</td>\n",
       "      <td>6</td>\n",
       "      <td>0</td>\n",
       "    </tr>\n",
       "    <tr>\n",
       "      <th>3</th>\n",
       "      <td>192.168.1.1</td>\n",
       "      <td>03/Dec/2024:10:12:37</td>\n",
       "      <td>GET</td>\n",
       "      <td>/contact</td>\n",
       "      <td>200</td>\n",
       "      <td>312</td>\n",
       "      <td>7</td>\n",
       "      <td>0</td>\n",
       "    </tr>\n",
       "    <tr>\n",
       "      <th>4</th>\n",
       "      <td>198.51.100.23</td>\n",
       "      <td>03/Dec/2024:10:12:38</td>\n",
       "      <td>POST</td>\n",
       "      <td>/register</td>\n",
       "      <td>200</td>\n",
       "      <td>128</td>\n",
       "      <td>8</td>\n",
       "      <td>0</td>\n",
       "    </tr>\n",
       "  </tbody>\n",
       "</table>\n",
       "</div>"
      ],
      "text/plain": [
       "      IP Address             Date/Time HTTP Method   Endpoint  Access Count  \\\n",
       "0    192.168.1.1  03/Dec/2024:10:12:34         GET      /home           200   \n",
       "1    203.0.113.5  03/Dec/2024:10:12:35        POST     /login           401   \n",
       "2       10.0.0.2  03/Dec/2024:10:12:36         GET     /about           200   \n",
       "3    192.168.1.1  03/Dec/2024:10:12:37         GET   /contact           200   \n",
       "4  198.51.100.23  03/Dec/2024:10:12:38        POST  /register           200   \n",
       "\n",
       "   Response Size  Request Count  Failed Login Count  \n",
       "0            512              7                   0  \n",
       "1            128              8                   8  \n",
       "2            256              6                   0  \n",
       "3            312              7                   0  \n",
       "4            128              8                   0  "
      ]
     },
     "execution_count": 57,
     "metadata": {},
     "output_type": "execute_result"
    }
   ],
   "source": [
    "data.head()"
   ]
  },
  {
   "cell_type": "code",
   "execution_count": 58,
   "id": "ade26e1a-e33c-4958-904c-4194788eb8ae",
   "metadata": {},
   "outputs": [
    {
     "data": {
      "text/html": [
       "<div>\n",
       "<style scoped>\n",
       "    .dataframe tbody tr th:only-of-type {\n",
       "        vertical-align: middle;\n",
       "    }\n",
       "\n",
       "    .dataframe tbody tr th {\n",
       "        vertical-align: top;\n",
       "    }\n",
       "\n",
       "    .dataframe thead th {\n",
       "        text-align: right;\n",
       "    }\n",
       "</style>\n",
       "<table border=\"1\" class=\"dataframe\">\n",
       "  <thead>\n",
       "    <tr style=\"text-align: right;\">\n",
       "      <th></th>\n",
       "      <th>IP Address</th>\n",
       "      <th>Endpoint</th>\n",
       "      <th>Access Count</th>\n",
       "      <th>Request Count</th>\n",
       "      <th>Failed Login Count</th>\n",
       "    </tr>\n",
       "  </thead>\n",
       "  <tbody>\n",
       "    <tr>\n",
       "      <th>0</th>\n",
       "      <td>192.168.1.1</td>\n",
       "      <td>/home</td>\n",
       "      <td>200</td>\n",
       "      <td>7</td>\n",
       "      <td>0</td>\n",
       "    </tr>\n",
       "    <tr>\n",
       "      <th>1</th>\n",
       "      <td>203.0.113.5</td>\n",
       "      <td>/login</td>\n",
       "      <td>401</td>\n",
       "      <td>8</td>\n",
       "      <td>8</td>\n",
       "    </tr>\n",
       "    <tr>\n",
       "      <th>2</th>\n",
       "      <td>10.0.0.2</td>\n",
       "      <td>/about</td>\n",
       "      <td>200</td>\n",
       "      <td>6</td>\n",
       "      <td>0</td>\n",
       "    </tr>\n",
       "  </tbody>\n",
       "</table>\n",
       "</div>"
      ],
      "text/plain": [
       "    IP Address Endpoint  Access Count  Request Count  Failed Login Count\n",
       "0  192.168.1.1    /home           200              7                   0\n",
       "1  203.0.113.5   /login           401              8                   8\n",
       "2     10.0.0.2   /about           200              6                   0"
      ]
     },
     "execution_count": 58,
     "metadata": {},
     "output_type": "execute_result"
    }
   ],
   "source": [
    "data[[\"IP Address\", \"Endpoint\", \"Access Count\", \"Request Count\", \"Failed Login Count\"]].head(3)"
   ]
  },
  {
   "cell_type": "markdown",
   "id": "3439d18b-eb20-4e4e-9f3f-0d22ddd3eb50",
   "metadata": {},
   "source": [
    "# Data Overview\n",
    "### 1. Before visualizing, get a summary of the dataset:\n",
    "### 2. Display basic `statistics` and `information`\n",
    "\n"
   ]
  },
  {
   "cell_type": "code",
   "execution_count": 67,
   "id": "d754f047-733b-4fa6-93b7-aefa927311e8",
   "metadata": {},
   "outputs": [
    {
     "data": {
      "text/html": [
       "<div>\n",
       "<style scoped>\n",
       "    .dataframe tbody tr th:only-of-type {\n",
       "        vertical-align: middle;\n",
       "    }\n",
       "\n",
       "    .dataframe tbody tr th {\n",
       "        vertical-align: top;\n",
       "    }\n",
       "\n",
       "    .dataframe thead th {\n",
       "        text-align: right;\n",
       "    }\n",
       "</style>\n",
       "<table border=\"1\" class=\"dataframe\">\n",
       "  <thead>\n",
       "    <tr style=\"text-align: right;\">\n",
       "      <th></th>\n",
       "      <th>IP Address</th>\n",
       "      <th>Date/Time</th>\n",
       "      <th>HTTP Method</th>\n",
       "      <th>Endpoint</th>\n",
       "      <th>Access Count</th>\n",
       "      <th>Response Size</th>\n",
       "      <th>Request Count</th>\n",
       "      <th>Failed Login Count</th>\n",
       "    </tr>\n",
       "  </thead>\n",
       "  <tbody>\n",
       "    <tr>\n",
       "      <th>0</th>\n",
       "      <td>192.168.1.1</td>\n",
       "      <td>03/Dec/2024:10:12:34</td>\n",
       "      <td>GET</td>\n",
       "      <td>/home</td>\n",
       "      <td>200</td>\n",
       "      <td>512</td>\n",
       "      <td>7</td>\n",
       "      <td>0</td>\n",
       "    </tr>\n",
       "    <tr>\n",
       "      <th>1</th>\n",
       "      <td>203.0.113.5</td>\n",
       "      <td>03/Dec/2024:10:12:35</td>\n",
       "      <td>POST</td>\n",
       "      <td>/login</td>\n",
       "      <td>401</td>\n",
       "      <td>128</td>\n",
       "      <td>8</td>\n",
       "      <td>8</td>\n",
       "    </tr>\n",
       "    <tr>\n",
       "      <th>2</th>\n",
       "      <td>10.0.0.2</td>\n",
       "      <td>03/Dec/2024:10:12:36</td>\n",
       "      <td>GET</td>\n",
       "      <td>/about</td>\n",
       "      <td>200</td>\n",
       "      <td>256</td>\n",
       "      <td>6</td>\n",
       "      <td>0</td>\n",
       "    </tr>\n",
       "    <tr>\n",
       "      <th>3</th>\n",
       "      <td>192.168.1.1</td>\n",
       "      <td>03/Dec/2024:10:12:37</td>\n",
       "      <td>GET</td>\n",
       "      <td>/contact</td>\n",
       "      <td>200</td>\n",
       "      <td>312</td>\n",
       "      <td>7</td>\n",
       "      <td>0</td>\n",
       "    </tr>\n",
       "    <tr>\n",
       "      <th>4</th>\n",
       "      <td>198.51.100.23</td>\n",
       "      <td>03/Dec/2024:10:12:38</td>\n",
       "      <td>POST</td>\n",
       "      <td>/register</td>\n",
       "      <td>200</td>\n",
       "      <td>128</td>\n",
       "      <td>8</td>\n",
       "      <td>0</td>\n",
       "    </tr>\n",
       "  </tbody>\n",
       "</table>\n",
       "</div>"
      ],
      "text/plain": [
       "      IP Address             Date/Time HTTP Method   Endpoint  Access Count  \\\n",
       "0    192.168.1.1  03/Dec/2024:10:12:34         GET      /home           200   \n",
       "1    203.0.113.5  03/Dec/2024:10:12:35        POST     /login           401   \n",
       "2       10.0.0.2  03/Dec/2024:10:12:36         GET     /about           200   \n",
       "3    192.168.1.1  03/Dec/2024:10:12:37         GET   /contact           200   \n",
       "4  198.51.100.23  03/Dec/2024:10:12:38        POST  /register           200   \n",
       "\n",
       "   Response Size  Request Count  Failed Login Count  \n",
       "0            512              7                   0  \n",
       "1            128              8                   8  \n",
       "2            256              6                   0  \n",
       "3            312              7                   0  \n",
       "4            128              8                   0  "
      ]
     },
     "execution_count": 67,
     "metadata": {},
     "output_type": "execute_result"
    }
   ],
   "source": [
    "data.head()"
   ]
  },
  {
   "cell_type": "code",
   "execution_count": 68,
   "id": "9b5e60d3-6c82-4bc7-83ea-bb9b11a3d376",
   "metadata": {},
   "outputs": [
    {
     "data": {
      "text/html": [
       "<div>\n",
       "<style scoped>\n",
       "    .dataframe tbody tr th:only-of-type {\n",
       "        vertical-align: middle;\n",
       "    }\n",
       "\n",
       "    .dataframe tbody tr th {\n",
       "        vertical-align: top;\n",
       "    }\n",
       "\n",
       "    .dataframe thead th {\n",
       "        text-align: right;\n",
       "    }\n",
       "</style>\n",
       "<table border=\"1\" class=\"dataframe\">\n",
       "  <thead>\n",
       "    <tr style=\"text-align: right;\">\n",
       "      <th></th>\n",
       "      <th>Access Count</th>\n",
       "      <th>Response Size</th>\n",
       "      <th>Request Count</th>\n",
       "      <th>Failed Login Count</th>\n",
       "    </tr>\n",
       "  </thead>\n",
       "  <tbody>\n",
       "    <tr>\n",
       "      <th>count</th>\n",
       "      <td>34.000000</td>\n",
       "      <td>34.000000</td>\n",
       "      <td>34.000000</td>\n",
       "      <td>34.000000</td>\n",
       "    </tr>\n",
       "    <tr>\n",
       "      <th>mean</th>\n",
       "      <td>276.852941</td>\n",
       "      <td>336.705882</td>\n",
       "      <td>7.000000</td>\n",
       "      <td>2.617647</td>\n",
       "    </tr>\n",
       "    <tr>\n",
       "      <th>std</th>\n",
       "      <td>99.147314</td>\n",
       "      <td>288.527246</td>\n",
       "      <td>1.128152</td>\n",
       "      <td>3.499045</td>\n",
       "    </tr>\n",
       "    <tr>\n",
       "      <th>min</th>\n",
       "      <td>200.000000</td>\n",
       "      <td>128.000000</td>\n",
       "      <td>5.000000</td>\n",
       "      <td>0.000000</td>\n",
       "    </tr>\n",
       "    <tr>\n",
       "      <th>25%</th>\n",
       "      <td>200.000000</td>\n",
       "      <td>128.000000</td>\n",
       "      <td>6.000000</td>\n",
       "      <td>0.000000</td>\n",
       "    </tr>\n",
       "    <tr>\n",
       "      <th>50%</th>\n",
       "      <td>200.000000</td>\n",
       "      <td>192.000000</td>\n",
       "      <td>7.000000</td>\n",
       "      <td>0.000000</td>\n",
       "    </tr>\n",
       "    <tr>\n",
       "      <th>75%</th>\n",
       "      <td>401.000000</td>\n",
       "      <td>512.000000</td>\n",
       "      <td>8.000000</td>\n",
       "      <td>5.000000</td>\n",
       "    </tr>\n",
       "    <tr>\n",
       "      <th>max</th>\n",
       "      <td>401.000000</td>\n",
       "      <td>1024.000000</td>\n",
       "      <td>8.000000</td>\n",
       "      <td>8.000000</td>\n",
       "    </tr>\n",
       "  </tbody>\n",
       "</table>\n",
       "</div>"
      ],
      "text/plain": [
       "       Access Count  Response Size  Request Count  Failed Login Count\n",
       "count     34.000000      34.000000      34.000000           34.000000\n",
       "mean     276.852941     336.705882       7.000000            2.617647\n",
       "std       99.147314     288.527246       1.128152            3.499045\n",
       "min      200.000000     128.000000       5.000000            0.000000\n",
       "25%      200.000000     128.000000       6.000000            0.000000\n",
       "50%      200.000000     192.000000       7.000000            0.000000\n",
       "75%      401.000000     512.000000       8.000000            5.000000\n",
       "max      401.000000    1024.000000       8.000000            8.000000"
      ]
     },
     "execution_count": 68,
     "metadata": {},
     "output_type": "execute_result"
    }
   ],
   "source": [
    "data.describe()"
   ]
  },
  {
   "cell_type": "code",
   "execution_count": 69,
   "id": "14d14226-4a49-4b24-88bb-9dd3668e7269",
   "metadata": {},
   "outputs": [
    {
     "name": "stdout",
     "output_type": "stream",
     "text": [
      "<class 'pandas.core.frame.DataFrame'>\n",
      "RangeIndex: 34 entries, 0 to 33\n",
      "Data columns (total 8 columns):\n",
      " #   Column              Non-Null Count  Dtype \n",
      "---  ------              --------------  ----- \n",
      " 0   IP Address          34 non-null     object\n",
      " 1   Date/Time           34 non-null     object\n",
      " 2   HTTP Method         34 non-null     object\n",
      " 3   Endpoint            34 non-null     object\n",
      " 4   Access Count        34 non-null     int64 \n",
      " 5   Response Size       34 non-null     int64 \n",
      " 6   Request Count       34 non-null     int64 \n",
      " 7   Failed Login Count  34 non-null     int64 \n",
      "dtypes: int64(4), object(4)\n",
      "memory usage: 2.3+ KB\n"
     ]
    }
   ],
   "source": [
    "data.info()"
   ]
  },
  {
   "cell_type": "markdown",
   "id": "47984b9b-513f-4124-83cf-dc31ad587bcc",
   "metadata": {},
   "source": [
    "# **Core Requirements**"
   ]
  },
  {
   "cell_type": "markdown",
   "id": "27d94f1a-5e95-4f78-96b0-e96e261b8f28",
   "metadata": {},
   "source": [
    "#### Your Python script should implement the following functionalities:\n",
    "\n",
    "### 1. **Count Requests per IP Address**\n",
    "> 1.1 Parse the provided log file to extract all **`IP addresses`**.\n",
    "\r",
    "> 1.2  Calculate the number of requests made by each IP address\n",
    "\n",
    "> 1.3 - Sort and display the results in descending order  request count.s."
   ]
  },
  {
   "cell_type": "code",
   "execution_count": 21,
   "id": "fc784ccf-5dd9-4b39-8837-8e633568b331",
   "metadata": {},
   "outputs": [
    {
     "data": {
      "text/html": [
       "<div>\n",
       "<style scoped>\n",
       "    .dataframe tbody tr th:only-of-type {\n",
       "        vertical-align: middle;\n",
       "    }\n",
       "\n",
       "    .dataframe tbody tr th {\n",
       "        vertical-align: top;\n",
       "    }\n",
       "\n",
       "    .dataframe thead th {\n",
       "        text-align: right;\n",
       "    }\n",
       "</style>\n",
       "<table border=\"1\" class=\"dataframe\">\n",
       "  <thead>\n",
       "    <tr style=\"text-align: right;\">\n",
       "      <th></th>\n",
       "      <th>IP Address</th>\n",
       "      <th>Request Count</th>\n",
       "    </tr>\n",
       "  </thead>\n",
       "  <tbody>\n",
       "    <tr>\n",
       "      <th>0</th>\n",
       "      <td>192.168.1.1</td>\n",
       "      <td>7</td>\n",
       "    </tr>\n",
       "    <tr>\n",
       "      <th>1</th>\n",
       "      <td>203.0.113.5</td>\n",
       "      <td>8</td>\n",
       "    </tr>\n",
       "    <tr>\n",
       "      <th>2</th>\n",
       "      <td>10.0.0.2</td>\n",
       "      <td>6</td>\n",
       "    </tr>\n",
       "  </tbody>\n",
       "</table>\n",
       "</div>"
      ],
      "text/plain": [
       "    IP Address  Request Count\n",
       "0  192.168.1.1              7\n",
       "1  203.0.113.5              8\n",
       "2     10.0.0.2              6"
      ]
     },
     "execution_count": 21,
     "metadata": {},
     "output_type": "execute_result"
    }
   ],
   "source": [
    "data[[\"IP Address\",\"Request Count\"]].head(3)"
   ]
  },
  {
   "cell_type": "markdown",
   "id": "889b58fa-f189-4d3b-8ec1-a2e27f2c1f8c",
   "metadata": {},
   "source": [
    "\n",
    "### 2. **Identify the Most Frequently Accessed Endpoint**\n",
    ">2.1 Extract the endpoints (e.g., URLs or resource paths) from the log file.\n",
    "\n",
    ">2.2 Identify the endpoint accessed the highest number of times.\n",
    "\n",
    ">2.3 Provide the **`endpoint`** name and its **`access count`**"
   ]
  },
  {
   "cell_type": "code",
   "execution_count": 50,
   "id": "5207c448-c43c-406c-99c9-822a1cef8e25",
   "metadata": {},
   "outputs": [
    {
     "data": {
      "text/html": [
       "<div>\n",
       "<style scoped>\n",
       "    .dataframe tbody tr th:only-of-type {\n",
       "        vertical-align: middle;\n",
       "    }\n",
       "\n",
       "    .dataframe tbody tr th {\n",
       "        vertical-align: top;\n",
       "    }\n",
       "\n",
       "    .dataframe thead th {\n",
       "        text-align: right;\n",
       "    }\n",
       "</style>\n",
       "<table border=\"1\" class=\"dataframe\">\n",
       "  <thead>\n",
       "    <tr style=\"text-align: right;\">\n",
       "      <th></th>\n",
       "      <th>Endpoint</th>\n",
       "      <th>Access Count</th>\n",
       "    </tr>\n",
       "  </thead>\n",
       "  <tbody>\n",
       "    <tr>\n",
       "      <th>0</th>\n",
       "      <td>/home</td>\n",
       "      <td>200</td>\n",
       "    </tr>\n",
       "    <tr>\n",
       "      <th>1</th>\n",
       "      <td>/login</td>\n",
       "      <td>401</td>\n",
       "    </tr>\n",
       "    <tr>\n",
       "      <th>2</th>\n",
       "      <td>/about</td>\n",
       "      <td>200</td>\n",
       "    </tr>\n",
       "  </tbody>\n",
       "</table>\n",
       "</div>"
      ],
      "text/plain": [
       "  Endpoint  Access Count\n",
       "0    /home           200\n",
       "1   /login           401\n",
       "2   /about           200"
      ]
     },
     "execution_count": 50,
     "metadata": {},
     "output_type": "execute_result"
    }
   ],
   "source": [
    "data[[\"Endpoint\", \"Access Count\"]].head(3)"
   ]
  },
  {
   "cell_type": "markdown",
   "id": "a6bab2b4-58d1-40de-afc2-d4fe34de5237",
   "metadata": {},
   "source": [
    "\n",
    "### 3. **Detect Suspicious Activity**\n",
    "> 3.1 Identify potential brute force login attempts by:\n",
    "\n",
    "> 3.1.1 Searching for log entries with failed login attempts (e.g., HTTP status code `401` or a specific failure message like **\"Invalid credentials\"**)\n",
    "\n",
    "> 3.1.2 Flagging `IP addresses` with `failed login` attempts exceeding a configurable threshold (**default**: 10 attempts).\n",
    "\n",
    ">3.2 Display the flagged **`IP addresses`** and their **`failed login counts`**."
   ]
  },
  {
   "cell_type": "code",
   "execution_count": 23,
   "id": "845ea897-6cec-4b71-be11-b43a98d15b4b",
   "metadata": {},
   "outputs": [
    {
     "data": {
      "text/html": [
       "<div>\n",
       "<style scoped>\n",
       "    .dataframe tbody tr th:only-of-type {\n",
       "        vertical-align: middle;\n",
       "    }\n",
       "\n",
       "    .dataframe tbody tr th {\n",
       "        vertical-align: top;\n",
       "    }\n",
       "\n",
       "    .dataframe thead th {\n",
       "        text-align: right;\n",
       "    }\n",
       "</style>\n",
       "<table border=\"1\" class=\"dataframe\">\n",
       "  <thead>\n",
       "    <tr style=\"text-align: right;\">\n",
       "      <th></th>\n",
       "      <th>IP Address</th>\n",
       "      <th>Failed Login Count</th>\n",
       "    </tr>\n",
       "  </thead>\n",
       "  <tbody>\n",
       "    <tr>\n",
       "      <th>0</th>\n",
       "      <td>192.168.1.1</td>\n",
       "      <td>0</td>\n",
       "    </tr>\n",
       "    <tr>\n",
       "      <th>1</th>\n",
       "      <td>203.0.113.5</td>\n",
       "      <td>8</td>\n",
       "    </tr>\n",
       "    <tr>\n",
       "      <th>2</th>\n",
       "      <td>10.0.0.2</td>\n",
       "      <td>0</td>\n",
       "    </tr>\n",
       "  </tbody>\n",
       "</table>\n",
       "</div>"
      ],
      "text/plain": [
       "    IP Address  Failed Login Count\n",
       "0  192.168.1.1                   0\n",
       "1  203.0.113.5                   8\n",
       "2     10.0.0.2                   0"
      ]
     },
     "execution_count": 23,
     "metadata": {},
     "output_type": "execute_result"
    }
   ],
   "source": [
    "data[[\"IP Address\", \"Failed Login Count\"]].head(3)"
   ]
  },
  {
   "cell_type": "markdown",
   "id": "3a3f1160-7860-42ce-8a58-82f900a58a38",
   "metadata": {},
   "source": [
    "# **`Data Visualization` or `Exploratory Data Analysis` (EDA)**."
   ]
  },
  {
   "cell_type": "markdown",
   "id": "962f31ce-9e94-425b-be5f-756a926a2d3f",
   "metadata": {},
   "source": [
    "## Pandas\n",
    "> Load and manipulate data with `pandas`\n",
    "## matplotlib and seaborn\n",
    ">Visualize the data with `matplotlib` and `seaborn`"
   ]
  },
  {
   "cell_type": "code",
   "execution_count": 97,
   "id": "dbc56965-00d8-4b83-bc3b-24eafd223aed",
   "metadata": {},
   "outputs": [],
   "source": [
    "### *The libraries work together to*:\n",
    "import pandas as pd\n",
    "import matplotlib.pyplot as plt\n",
    "import seaborn as sns"
   ]
  },
  {
   "cell_type": "code",
   "execution_count": 73,
   "id": "1e4266d9-22ff-418d-ac39-72d18b3f0402",
   "metadata": {},
   "outputs": [],
   "source": [
    "# Sample data\n",
    "data = {\n",
    "    \"IP Address\": [\"192.168.1.1\", \"203.0.113.5\", \"10.0.0.2\"],\n",
    "    \"AccessCount\": [200,401,200],\n",
    "    \"Endpoint\": [\"/home\", \"/login\", \"/about\"],\n",
    "    \"Request Count\": [7,8,6],\n",
    "    \"Failed Login Count\": [0,8,0]\n",
    "}\n",
    "df = pd.DataFrame(data)"
   ]
  },
  {
   "cell_type": "code",
   "execution_count": 86,
   "id": "dfac2698-9b7d-41a3-a15b-38328cbf1f72",
   "metadata": {},
   "outputs": [
    {
     "data": {
      "image/png": "[encoded data removed]",
      "text/plain": [
       "<Figure size 800x500 with 1 Axes>"
      ]
     },
     "metadata": {},
     "output_type": "display_data"
    }
   ],
   "source": [
    "# Bar Chart: Request Count vs. IP Address (with hue)\n",
    "plt.figure(figsize=(8, 5))\n",
    "sns.barplot(data=df, x=\"IP Address\", y=\"Request Count\", hue=\"Endpoint\", palette=\"Blues_d\")\n",
    "plt.title(\"Request Count by IP Address (Grouped by Endpoint)\",fontsize=14, color=\"red\")\n",
    "plt.ylabel(\"Request Count\", fontsize=12, color=\"green\")\n",
    "plt.xlabel(\"IP Address\", fontsize=12, color=\"purple\")\n",
    "plt.legend(title=\"Endpoint\")\n",
    "plt.show()\n"
   ]
  },
  {
   "cell_type": "code",
   "execution_count": 94,
   "id": "ab287010-b704-4842-b898-3bc52ad1e40c",
   "metadata": {},
   "outputs": [
    {
     "data": {
      "image/png": "[encoded data removed]",
      "text/plain": [
       "<Figure size 800x500 with 1 Axes>"
      ]
     },
     "metadata": {},
     "output_type": "display_data"
    }
   ],
   "source": [
    "# 2. Scatter Plot: Request Count vs. Access Count\n",
    "plt.figure(figsize=(8, 5))\n",
    "sns.scatterplot(data=df, x=\"AccessCount\", y=\"Request Count\", hue=\"IP Address\", style=\"Endpoint\", s=100)\n",
    "plt.title(\"Request Count vs. Access Count\",fontsize=12, color=\"red\")\n",
    "plt.xlabel(\"Access Count\", fontsize=12, color=\"purple\")\n",
    "plt.ylabel(\"Request Count\",fontsize=12, color=\"green\")\n",
    "plt.legend(title=\"IP Address\")\n",
    "plt.show()\n"
   ]
  },
  {
   "cell_type": "code",
   "execution_count": 95,
   "id": "15fb9af6-de1c-4b3b-b2d0-d0c65b563c9f",
   "metadata": {},
   "outputs": [
    {
     "data": {
      "image/png": "[encoded data removed]",
      "text/plain": [
       "<Figure size 600x400 with 2 Axes>"
      ]
     },
     "metadata": {},
     "output_type": "display_data"
    }
   ],
   "source": [
    "# 3. Heatmap: Correlation Matrix\n",
    "plt.figure(figsize=(6, 4))\n",
    "correlation_matrix = df[[\"AccessCount\", \"Request Count\", \"Failed Login Count\"]].corr()\n",
    "sns.heatmap(correlation_matrix, annot=True, cmap=\"coolwarm\")\n",
    "plt.title(\"Correlation Heatmap\", fontsize=12, color=\"purple\")\n",
    "plt.show()\n"
   ]
  },
  {
   "cell_type": "code",
   "execution_count": 93,
   "id": "de9ad5c2-b537-4b58-89d5-182820bcf2f3",
   "metadata": {},
   "outputs": [
    {
     "data": {
      "image/png": "[encoded data removed]",
      "text/plain": [
       "<Figure size 600x600 with 1 Axes>"
      ]
     },
     "metadata": {},
     "output_type": "display_data"
    }
   ],
   "source": [
    "# 4. Pie Chart: Distribution of Access Count by IP Address\n",
    "plt.figure(figsize=(6, 6))\n",
    "plt.pie(\n",
    "    df[\"AccessCount\"],\n",
    "    labels=df[\"IP Address\"],\n",
    "    autopct=\"%1.1f%%\",\n",
    "    startangle=140,\n",
    "    colors=[\"skyblue\", \"orange\", \"lightgreen\"],\n",
    ")\n",
    "plt.title(\"Access Count Distribution by IP Address\",fontsize=12, color=\"red\")\n",
    "plt.show()\n"
   ]
  },
  {
   "cell_type": "code",
   "execution_count": null,
   "id": "eb591283-b466-44bf-a883-4b483e1c8629",
   "metadata": {},
   "outputs": [],
   "source": []
  }
 ],
 "metadata": {
  "kernelspec": {
   "display_name": "Python 3 (ipykernel)",
   "language": "python",
   "name": "python3"
  },
  "language_info": {
   "codemirror_mode": {
    "name": "ipython",
    "version": 3
   },
   "file_extension": ".py",
   "mimetype": "text/x-python",
   "name": "python",
   "nbconvert_exporter": "python",
   "pygments_lexer": "ipython3",
   "version": "3.12.4"
  }
 },
 "nbformat": 4,
 "nbformat_minor": 5
}
